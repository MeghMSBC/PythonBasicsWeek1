{
 "cells": [
  {
   "cell_type": "code",
   "execution_count": 5,
   "id": "d7a8642c",
   "metadata": {},
   "outputs": [
    {
     "name": "stdout",
     "output_type": "stream",
     "text": [
      "    Name  Age    City  Salary\n",
      "1    Bob   35  Mumbai   60000\n",
      "3  David   40   Delhi   65000\n"
     ]
    }
   ],
   "source": [
    "#Practice question 1\n",
    "# find people older than the average age\n",
    "import pandas as pd\n",
    "\n",
    "data1 = {\n",
    "    'Name': ['Alice', 'Bob', 'Charlie', 'David'],\n",
    "    'Age': [25, 35, 30, 40],\n",
    "    'City': ['Delhi', 'Mumbai', 'Bangalore', 'Delhi'],\n",
    "    'Salary': [50000, 60000, 55000, 65000]\n",
    "}\n",
    "df1 = pd.DataFrame(data1)\n",
    "print(df1[df1['Age']>df1['Age'].mean()])"
   ]
  },
  {
   "cell_type": "code",
   "execution_count": 6,
   "id": "40a65f1c",
   "metadata": {},
   "outputs": [
    {
     "data": {
      "text/html": [
       "<div>\n",
       "<style scoped>\n",
       "    .dataframe tbody tr th:only-of-type {\n",
       "        vertical-align: middle;\n",
       "    }\n",
       "\n",
       "    .dataframe tbody tr th {\n",
       "        vertical-align: top;\n",
       "    }\n",
       "\n",
       "    .dataframe thead th {\n",
       "        text-align: right;\n",
       "    }\n",
       "</style>\n",
       "<table border=\"1\" class=\"dataframe\">\n",
       "  <thead>\n",
       "    <tr style=\"text-align: right;\">\n",
       "      <th></th>\n",
       "      <th>Date</th>\n",
       "      <th>Sales</th>\n",
       "      <th>Prev_Sales</th>\n",
       "      <th>Increase</th>\n",
       "    </tr>\n",
       "  </thead>\n",
       "  <tbody>\n",
       "    <tr>\n",
       "      <th>0</th>\n",
       "      <td>2023-01-01</td>\n",
       "      <td>100</td>\n",
       "      <td>NaN</td>\n",
       "      <td>False</td>\n",
       "    </tr>\n",
       "    <tr>\n",
       "      <th>1</th>\n",
       "      <td>2023-01-02</td>\n",
       "      <td>110</td>\n",
       "      <td>100.0</td>\n",
       "      <td>True</td>\n",
       "    </tr>\n",
       "    <tr>\n",
       "      <th>2</th>\n",
       "      <td>2023-01-03</td>\n",
       "      <td>105</td>\n",
       "      <td>110.0</td>\n",
       "      <td>False</td>\n",
       "    </tr>\n",
       "    <tr>\n",
       "      <th>3</th>\n",
       "      <td>2023-01-04</td>\n",
       "      <td>120</td>\n",
       "      <td>105.0</td>\n",
       "      <td>True</td>\n",
       "    </tr>\n",
       "  </tbody>\n",
       "</table>\n",
       "</div>"
      ],
      "text/plain": [
       "        Date  Sales  Prev_Sales  Increase\n",
       "0 2023-01-01    100         NaN     False\n",
       "1 2023-01-02    110       100.0      True\n",
       "2 2023-01-03    105       110.0     False\n",
       "3 2023-01-04    120       105.0      True"
      ]
     },
     "execution_count": 6,
     "metadata": {},
     "output_type": "execute_result"
    }
   ],
   "source": [
    "# Add a new column showing whether sales increased compared to the previous day.\n",
    "data2 = {\n",
    "    'Date': ['2023-01-01', '2023-01-02', '2023-01-03', '2023-01-04'],\n",
    "    'Sales': [100, 110, 105, 120]\n",
    "}\n",
    "df2 = pd.DataFrame(data2)\n",
    "df2['Date'] = pd.to_datetime(df2['Date'])\n",
    "df2['Prev_Sales'] = df2['Sales'].shift(1)\n",
    "df2['Increase'] = df2['Sales']>df2['Prev_Sales']\n",
    "df2"
   ]
  },
  {
   "cell_type": "code",
   "execution_count": 7,
   "id": "26640bf3",
   "metadata": {},
   "outputs": [
    {
     "data": {
      "text/html": [
       "<div>\n",
       "<style scoped>\n",
       "    .dataframe tbody tr th:only-of-type {\n",
       "        vertical-align: middle;\n",
       "    }\n",
       "\n",
       "    .dataframe tbody tr th {\n",
       "        vertical-align: top;\n",
       "    }\n",
       "\n",
       "    .dataframe thead th {\n",
       "        text-align: right;\n",
       "    }\n",
       "</style>\n",
       "<table border=\"1\" class=\"dataframe\">\n",
       "  <thead>\n",
       "    <tr style=\"text-align: right;\">\n",
       "      <th></th>\n",
       "      <th>Product_A_Sales</th>\n",
       "      <th>Product_B_Sales</th>\n",
       "      <th>Product_C_Sales</th>\n",
       "      <th>Max</th>\n",
       "    </tr>\n",
       "  </thead>\n",
       "  <tbody>\n",
       "    <tr>\n",
       "      <th>0</th>\n",
       "      <td>10</td>\n",
       "      <td>5</td>\n",
       "      <td>8</td>\n",
       "      <td>Product_A_Sales</td>\n",
       "    </tr>\n",
       "    <tr>\n",
       "      <th>1</th>\n",
       "      <td>20</td>\n",
       "      <td>25</td>\n",
       "      <td>15</td>\n",
       "      <td>Product_B_Sales</td>\n",
       "    </tr>\n",
       "    <tr>\n",
       "      <th>2</th>\n",
       "      <td>15</td>\n",
       "      <td>10</td>\n",
       "      <td>20</td>\n",
       "      <td>Product_C_Sales</td>\n",
       "    </tr>\n",
       "  </tbody>\n",
       "</table>\n",
       "</div>"
      ],
      "text/plain": [
       "   Product_A_Sales  Product_B_Sales  Product_C_Sales              Max\n",
       "0               10                5                8  Product_A_Sales\n",
       "1               20               25               15  Product_B_Sales\n",
       "2               15               10               20  Product_C_Sales"
      ]
     },
     "execution_count": 7,
     "metadata": {},
     "output_type": "execute_result"
    }
   ],
   "source": [
    "# Create a new column showing which product had the maximum sales per row.\n",
    "data3 = {\n",
    "    'Product_A_Sales': [10, 20, 15],\n",
    "    'Product_B_Sales': [5, 25, 10],\n",
    "    'Product_C_Sales': [8, 15, 20]\n",
    "}\n",
    "df3 = pd.DataFrame(data3)\n",
    "df3['Max'] = df3.idxmax(axis=1)\n",
    "df3"
   ]
  },
  {
   "cell_type": "code",
   "execution_count": 12,
   "id": "57be6e24",
   "metadata": {},
   "outputs": [
    {
     "data": {
      "text/html": [
       "<div>\n",
       "<style scoped>\n",
       "    .dataframe tbody tr th:only-of-type {\n",
       "        vertical-align: middle;\n",
       "    }\n",
       "\n",
       "    .dataframe tbody tr th {\n",
       "        vertical-align: top;\n",
       "    }\n",
       "\n",
       "    .dataframe thead th {\n",
       "        text-align: right;\n",
       "    }\n",
       "</style>\n",
       "<table border=\"1\" class=\"dataframe\">\n",
       "  <thead>\n",
       "    <tr style=\"text-align: right;\">\n",
       "      <th></th>\n",
       "      <th>Name</th>\n",
       "      <th>Score</th>\n",
       "    </tr>\n",
       "  </thead>\n",
       "  <tbody>\n",
       "    <tr>\n",
       "      <th>0</th>\n",
       "      <td>A</td>\n",
       "      <td>50.0</td>\n",
       "    </tr>\n",
       "    <tr>\n",
       "      <th>1</th>\n",
       "      <td>B</td>\n",
       "      <td>60.0</td>\n",
       "    </tr>\n",
       "    <tr>\n",
       "      <th>2</th>\n",
       "      <td>C</td>\n",
       "      <td>70.0</td>\n",
       "    </tr>\n",
       "    <tr>\n",
       "      <th>3</th>\n",
       "      <td>D</td>\n",
       "      <td>60.0</td>\n",
       "    </tr>\n",
       "  </tbody>\n",
       "</table>\n",
       "</div>"
      ],
      "text/plain": [
       "  Name  Score\n",
       "0    A   50.0\n",
       "1    B   60.0\n",
       "2    C   70.0\n",
       "3    D   60.0"
      ]
     },
     "execution_count": 12,
     "metadata": {},
     "output_type": "execute_result"
    }
   ],
   "source": [
    "#Fill missing values with the median of the column.\n",
    "data4 = {\n",
    "    'Name': ['A', 'B', 'C', 'D'],\n",
    "    'Score': [50, None, 70, 60]\n",
    "}\n",
    "df4 = pd.DataFrame(data4)\n",
    "df4\n",
    "df4.fillna(df4['Score'].median() , inplace=True)\n",
    "df4"
   ]
  },
  {
   "cell_type": "code",
   "execution_count": 17,
   "id": "03644fdc",
   "metadata": {},
   "outputs": [
    {
     "data": {
      "text/html": [
       "<div>\n",
       "<style scoped>\n",
       "    .dataframe tbody tr th:only-of-type {\n",
       "        vertical-align: middle;\n",
       "    }\n",
       "\n",
       "    .dataframe tbody tr th {\n",
       "        vertical-align: top;\n",
       "    }\n",
       "\n",
       "    .dataframe thead th {\n",
       "        text-align: right;\n",
       "    }\n",
       "</style>\n",
       "<table border=\"1\" class=\"dataframe\">\n",
       "  <thead>\n",
       "    <tr style=\"text-align: right;\">\n",
       "      <th></th>\n",
       "      <th>Name</th>\n",
       "      <th>Phone</th>\n",
       "    </tr>\n",
       "  </thead>\n",
       "  <tbody>\n",
       "    <tr>\n",
       "      <th>0</th>\n",
       "      <td>John</td>\n",
       "      <td>1234567890</td>\n",
       "    </tr>\n",
       "    <tr>\n",
       "      <th>2</th>\n",
       "      <td>Alex</td>\n",
       "      <td>9876543210</td>\n",
       "    </tr>\n",
       "  </tbody>\n",
       "</table>\n",
       "</div>"
      ],
      "text/plain": [
       "   Name       Phone\n",
       "0  John  1234567890\n",
       "2  Alex  9876543210"
      ]
     },
     "execution_count": 17,
     "metadata": {},
     "output_type": "execute_result"
    }
   ],
   "source": [
    "#You have a column of phone numbers, but some entries are invalid (contain letters) Remove them.\n",
    "data5 = {\n",
    "    'Name': ['John', 'Jane', 'Alex'],\n",
    "    'Phone': ['1234567890', 'abc123456', '9876543210']\n",
    "}\n",
    "df5 = pd.DataFrame(data5)\n",
    "df5 = df5[df5['Phone'].str.isdigit()]\n",
    "df5"
   ]
  },
  {
   "cell_type": "code",
   "execution_count": 25,
   "id": "b458e98d",
   "metadata": {},
   "outputs": [
    {
     "data": {
      "text/html": [
       "<div>\n",
       "<style scoped>\n",
       "    .dataframe tbody tr th:only-of-type {\n",
       "        vertical-align: middle;\n",
       "    }\n",
       "\n",
       "    .dataframe tbody tr th {\n",
       "        vertical-align: top;\n",
       "    }\n",
       "\n",
       "    .dataframe thead th {\n",
       "        text-align: right;\n",
       "    }\n",
       "</style>\n",
       "<table border=\"1\" class=\"dataframe\">\n",
       "  <thead>\n",
       "    <tr style=\"text-align: right;\">\n",
       "      <th></th>\n",
       "      <th>Number_of_Employees</th>\n",
       "      <th>Average_Salary</th>\n",
       "      <th>Total_salary</th>\n",
       "      <th>Maximum_salary</th>\n",
       "      <th>Minimum_salary</th>\n",
       "    </tr>\n",
       "    <tr>\n",
       "      <th>Department</th>\n",
       "      <th></th>\n",
       "      <th></th>\n",
       "      <th></th>\n",
       "      <th></th>\n",
       "      <th></th>\n",
       "    </tr>\n",
       "  </thead>\n",
       "  <tbody>\n",
       "    <tr>\n",
       "      <th>Finance</th>\n",
       "      <td>1</td>\n",
       "      <td>70000.0</td>\n",
       "      <td>70000</td>\n",
       "      <td>70000</td>\n",
       "      <td>70000</td>\n",
       "    </tr>\n",
       "    <tr>\n",
       "      <th>HR</th>\n",
       "      <td>2</td>\n",
       "      <td>51000.0</td>\n",
       "      <td>102000</td>\n",
       "      <td>52000</td>\n",
       "      <td>50000</td>\n",
       "    </tr>\n",
       "    <tr>\n",
       "      <th>IT</th>\n",
       "      <td>2</td>\n",
       "      <td>60500.0</td>\n",
       "      <td>121000</td>\n",
       "      <td>61000</td>\n",
       "      <td>60000</td>\n",
       "    </tr>\n",
       "  </tbody>\n",
       "</table>\n",
       "</div>"
      ],
      "text/plain": [
       "            Number_of_Employees  Average_Salary  Total_salary  Maximum_salary  \\\n",
       "Department                                                                      \n",
       "Finance                       1         70000.0         70000           70000   \n",
       "HR                            2         51000.0        102000           52000   \n",
       "IT                            2         60500.0        121000           61000   \n",
       "\n",
       "            Minimum_salary  \n",
       "Department                  \n",
       "Finance              70000  \n",
       "HR                   50000  \n",
       "IT                   60000  "
      ]
     },
     "execution_count": 25,
     "metadata": {},
     "output_type": "execute_result"
    }
   ],
   "source": [
    "# For each Department, find: the number of employees, the average salary\n",
    "\n",
    "data6 = {\n",
    "    'Employee_ID': [101, 102, 103, 104, 105],\n",
    "    'Department': ['HR', 'IT', 'HR', 'Finance', 'IT'],\n",
    "    'Salary': [50000, 60000, 52000, 70000, 61000]\n",
    "}\n",
    "df6 = pd.DataFrame(data6)\n",
    "\n",
    "# for i, i_df in gp:\n",
    "#     print(i)\n",
    "#     print(i_df) \n",
    "#     #the count of employees and the average salary\n",
    "#     print(\"Mean Salary = \"+ str(i_df['Salary'].mean()))\n",
    "#     print(\"Number of employees = \"+ str(len(i_df)))\n",
    "\n",
    "# without loop\n",
    "\n",
    "gp = df6.groupby('Department').agg(\n",
    "    Number_of_Employees=('Employee_ID','count'),\n",
    "    Average_Salary = ('Salary','mean') ,\n",
    "    Total_salary = ('Salary','sum'),\n",
    "    Maximum_salary = ('Salary','max'),\n",
    "    Minimum_salary = ('Salary','min'),\n",
    ")\n",
    "gp\n"
   ]
  },
  {
   "cell_type": "code",
   "execution_count": 32,
   "id": "c9017c61",
   "metadata": {},
   "outputs": [
    {
     "data": {
      "text/plain": [
       "Max_Sales    420\n",
       "Name: West, dtype: int64"
      ]
     },
     "execution_count": 32,
     "metadata": {},
     "output_type": "execute_result"
    }
   ],
   "source": [
    "# Find the region with the highest total sales.\n",
    "data7 = {\n",
    "    'Region': ['East', 'West', 'East', 'North', 'West', 'North'],\n",
    "    'Date': pd.date_range(start='2023-01-01', periods=6),\n",
    "    'Sales': [100, 200, 150, 120, 220, 130]\n",
    "}\n",
    "df7 = pd.DataFrame(data7)\n",
    "df7.groupby('Region').agg(\n",
    "    Max_Sales = ('Sales','sum')\n",
    ").sort_values('Max_Sales',ascending=False).iloc[0]\n",
    "\n"
   ]
  },
  {
   "cell_type": "code",
   "execution_count": null,
   "id": "ac2a81e2",
   "metadata": {},
   "outputs": [],
   "source": []
  }
 ],
 "metadata": {
  "kernelspec": {
   "display_name": "Python 3",
   "language": "python",
   "name": "python3"
  },
  "language_info": {
   "codemirror_mode": {
    "name": "ipython",
    "version": 3
   },
   "file_extension": ".py",
   "mimetype": "text/x-python",
   "name": "python",
   "nbconvert_exporter": "python",
   "pygments_lexer": "ipython3",
   "version": "3.13.3"
  }
 },
 "nbformat": 4,
 "nbformat_minor": 5
}
