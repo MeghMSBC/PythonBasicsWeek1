{
 "cells": [
  {
   "cell_type": "code",
   "execution_count": 20,
   "id": "2ce57ece",
   "metadata": {},
   "outputs": [
    {
     "name": "stdout",
     "output_type": "stream",
     "text": [
      "[1, 4, 27, 256, 3125, 46656, 823543, 16777216, 387420489, 10000000000]\n",
      "[1, 4, 27, 256, 3125, 46656, 823543, 16777216, 387420489, 10000000000]\n"
     ]
    }
   ],
   "source": [
    "#MAP\n",
    "li = [1,2,3,4,5,6,7,8,9,10]\n",
    "\n",
    "def func(x):\n",
    "    return x**x\n",
    "newList = list(map(func,li))\n",
    "print(newList)\n",
    "#or\n",
    "NewList = [func(x) for x in li]\n",
    "print(NewList)"
   ]
  },
  {
   "cell_type": "code",
   "execution_count": 21,
   "id": "b2925e8d",
   "metadata": {},
   "outputs": [
    {
     "name": "stdout",
     "output_type": "stream",
     "text": [
      "[14, 16, 18, 20, 22]\n"
     ]
    }
   ],
   "source": [
    "#filter\n",
    "a = [1,2,3,4,5,6,7,8,9,10]\n",
    "def add13(x):\n",
    "    return x+13\n",
    "def isOdd(x):\n",
    "    return x%2!=0\n",
    "b = list(map(add13,filter(isOdd,a)))\n",
    "print(b)"
   ]
  },
  {
   "cell_type": "code",
   "execution_count": 22,
   "id": "32f56942",
   "metadata": {},
   "outputs": [
    {
     "name": "stdout",
     "output_type": "stream",
     "text": [
      "[6, 7, 8, 9, 10, 11, 12, 13, 14, 15]\n"
     ]
    }
   ],
   "source": [
    "#lambda (kind of like inline functions)\n",
    "a = [1,2,3,4,5,6,7,8,9,10]\n",
    "\n",
    "b = list(map(lambda x:x+5,a))\n",
    "print(b)"
   ]
  },
  {
   "cell_type": "code",
   "execution_count": 1,
   "id": "475c29a2",
   "metadata": {},
   "outputs": [
    {
     "name": "stdout",
     "output_type": "stream",
     "text": [
      "73\n"
     ]
    }
   ],
   "source": [
    "#reduce function\n",
    "from functools import reduce \n",
    "\n",
    "a = [1,2,3,4,5,6,7,8,9,10]\n",
    "\n",
    "b = (reduce(lambda x,y:x+y+2,a))\n",
    "print(b)"
   ]
  },
  {
   "cell_type": "code",
   "execution_count": 5,
   "id": "65bb7d56",
   "metadata": {},
   "outputs": [
    {
     "data": {
      "text/plain": [
       "'X:30, Y: 50'"
      ]
     },
     "execution_count": 5,
     "metadata": {},
     "output_type": "execute_result"
    }
   ],
   "source": [
    "#operator overloading\n",
    "class Vector:\n",
    "    def __init__(self,x,y):\n",
    "        self.x = x\n",
    "        self.y = y\n",
    "    def __add__(aa,bb):\n",
    "        return Vector(aa.x+bb.x,aa.y+bb.y)\n",
    "    def __repr__(self):\n",
    "        return (f\"X:{self.x}, Y: {self.y}\")\n",
    "    \n",
    "v1 = Vector(10,20)\n",
    "v2 = Vector(20,30)\n",
    "newv = (v1+v2)\n",
    "repr(newv)\n",
    "    "
   ]
  },
  {
   "cell_type": "code",
   "execution_count": 19,
   "id": "37ee9fe8",
   "metadata": {},
   "outputs": [
    {
     "name": "stdout",
     "output_type": "stream",
     "text": [
      "Helow\n"
     ]
    }
   ],
   "source": [
    "#type hinting\n",
    "def function(name:str)->int:\n",
    "    return name.capitalize()\n",
    "\n",
    "answer = function(\"Helow\")\n",
    "print(answer)\n",
    "#will still work but is not correct"
   ]
  },
  {
   "cell_type": "code",
   "execution_count": 26,
   "id": "0b7d8b7d",
   "metadata": {},
   "outputs": [
    {
     "name": "stdout",
     "output_type": "stream",
     "text": [
      "Chore 1 second done\n",
      "Chore 3 seconds done\n",
      "Chore 6 seconds done\n",
      "All tasks done\n"
     ]
    }
   ],
   "source": [
    "import threading\n",
    "import time\n",
    "def chore1():\n",
    "    time.sleep(6)\n",
    "    print(\"Chore 6 seconds done\")\n",
    "def chore2():\n",
    "    time.sleep(3)\n",
    "    print(\"Chore 3 seconds done\")\n",
    "def chore3():\n",
    "    time.sleep(1)\n",
    "    print(\"Chore 1 second done\")\n",
    "\n",
    "c1 = threading.Thread(target = chore1)\n",
    "c1.start()\n",
    "c2 = threading.Thread(target = chore2)\n",
    "c2.start()  \n",
    "c3 = threading.Thread(target = chore3)\n",
    "c3.start()\n",
    "\n",
    "c1.join()\n",
    "c2.join()\n",
    "c3.join()\n",
    "print(\"All tasks done\")"
   ]
  },
  {
   "cell_type": "code",
   "execution_count": 52,
   "id": "ae65b647",
   "metadata": {},
   "outputs": [
    {
     "name": "stdout",
     "output_type": "stream",
     "text": [
      "8\n",
      "Finished in  0.16057220002403483  seconds\n"
     ]
    }
   ],
   "source": [
    "from multiprocessing import Process,cpu_count\n",
    "import time\n",
    "\n",
    "def counter(n):\n",
    "    count = 0\n",
    "    while count<n:\n",
    "        count+=1\n",
    "\n",
    "def main():\n",
    "    print(cpu_count())\n",
    "    a = Process(target=counter, args=(250000000,))\n",
    "    b = Process(target=counter, args=(250000000,))\n",
    "    c = Process(target=counter, args=(250000000,))\n",
    "    d = Process(target=counter, args=(250000000,))\n",
    "    # e = Process(target=counter, args=(125000000,))\n",
    "    # f = Process(target=counter, args=(125000000,))\n",
    "    # g = Process(target=counter, args=(125000000,))\n",
    "    # h = Process(target=counter, args=(125000000,))\n",
    "\n",
    "    start = time.perf_counter()\n",
    "    a.start()\n",
    "    b.start()\n",
    "    c.start()\n",
    "    d.start()\n",
    "    # e.start()\n",
    "    # f.start()\n",
    "    # g.start()\n",
    "    # h.start()\n",
    "\n",
    "    a.join()\n",
    "    b.join()\n",
    "    c.join()\n",
    "    d.join()\n",
    "    # e.join()\n",
    "    # f.join()\n",
    "    # g.join()\n",
    "    # h.join()\n",
    "    end = time.perf_counter()\n",
    "    print(\"Finished in \", end-start,\" seconds\")\n",
    "main()"
   ]
  },
  {
   "cell_type": "code",
   "execution_count": 61,
   "id": "ecbc5dbc",
   "metadata": {},
   "outputs": [
    {
     "name": "stdout",
     "output_type": "stream",
     "text": [
      "My name is Hello\n",
      "And surname is Chakravarty\n",
      "AND i am a student\n"
     ]
    }
   ],
   "source": [
    "\n",
    "#decorators\n",
    "def decorator_func(func):\n",
    "    def wrapper(*args,**kwargs):\n",
    "        func(*args,**kwargs)\n",
    "        print(\"And surname is Chakravarty\")\n",
    "    return wrapper\n",
    "\n",
    "def occupation_func(func):\n",
    "    def wrapper(*args,**kwargs):\n",
    "        func(*args,**kwargs)\n",
    "        print(\"AND i am a student\")\n",
    "        \n",
    "    return wrapper\n",
    "\n",
    "@occupation_func\n",
    "@decorator_func\n",
    "def base_func(name):\n",
    "    print(f\"My name is {name}\")\n",
    "\n",
    "base_func(\"Hello\")"
   ]
  },
  {
   "cell_type": "code",
   "execution_count": 72,
   "id": "414b24ee",
   "metadata": {},
   "outputs": [
    {
     "name": "stdout",
     "output_type": "stream",
     "text": [
      "<generator object sq_number at 0x00000232AA652B50>\n",
      "1\n",
      "4\n",
      "9\n",
      "16\n",
      "25\n"
     ]
    }
   ],
   "source": [
    "#generators\n",
    "def sq_number(nums):\n",
    "    for i in nums:\n",
    "        yield (i*i)\n",
    "my_nums = sq_number([1,2,3,4,5])\n",
    "\n",
    "# print(next(my_nums)) \n",
    "# print(next(my_nums))\n",
    "# print(next(my_nums)) \n",
    "# print(next(my_nums))\n",
    "# print(next(my_nums)) \n",
    "print(my_nums)\n",
    "for num in my_nums:\n",
    "    print(num)"
   ]
  }
 ],
 "metadata": {
  "kernelspec": {
   "display_name": "Python 3",
   "language": "python",
   "name": "python3"
  },
  "language_info": {
   "codemirror_mode": {
    "name": "ipython",
    "version": 3
   },
   "file_extension": ".py",
   "mimetype": "text/x-python",
   "name": "python",
   "nbconvert_exporter": "python",
   "pygments_lexer": "ipython3",
   "version": "3.13.3"
  }
 },
 "nbformat": 4,
 "nbformat_minor": 5
}
