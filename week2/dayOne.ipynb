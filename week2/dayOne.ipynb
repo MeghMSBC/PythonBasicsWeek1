{
 "cells": [
  {
   "cell_type": "code",
   "execution_count": 20,
   "id": "2ce57ece",
   "metadata": {},
   "outputs": [
    {
     "name": "stdout",
     "output_type": "stream",
     "text": [
      "[1, 4, 27, 256, 3125, 46656, 823543, 16777216, 387420489, 10000000000]\n",
      "[1, 4, 27, 256, 3125, 46656, 823543, 16777216, 387420489, 10000000000]\n"
     ]
    }
   ],
   "source": [
    "#MAP\n",
    "li = [1,2,3,4,5,6,7,8,9,10]\n",
    "\n",
    "def func(x):\n",
    "    return x**x\n",
    "newList = list(map(func,li))\n",
    "print(newList)\n",
    "#or\n",
    "NewList = [func(x) for x in li]\n",
    "print(NewList)"
   ]
  },
  {
   "cell_type": "code",
   "execution_count": 21,
   "id": "b2925e8d",
   "metadata": {},
   "outputs": [
    {
     "name": "stdout",
     "output_type": "stream",
     "text": [
      "[14, 16, 18, 20, 22]\n"
     ]
    }
   ],
   "source": [
    "#filter\n",
    "a = [1,2,3,4,5,6,7,8,9,10]\n",
    "def add13(x):\n",
    "    return x+13\n",
    "def isOdd(x):\n",
    "    return x%2!=0\n",
    "b = list(map(add13,filter(isOdd,a)))\n",
    "print(b)"
   ]
  },
  {
   "cell_type": "code",
   "execution_count": 22,
   "id": "32f56942",
   "metadata": {},
   "outputs": [
    {
     "name": "stdout",
     "output_type": "stream",
     "text": [
      "[6, 7, 8, 9, 10, 11, 12, 13, 14, 15]\n"
     ]
    }
   ],
   "source": [
    "#lambda (kind of like inline functions)\n",
    "a = [1,2,3,4,5,6,7,8,9,10]\n",
    "\n",
    "b = list(map(lambda x:x+5,a))\n",
    "print(b)"
   ]
  },
  {
   "cell_type": "code",
   "execution_count": 1,
   "id": "475c29a2",
   "metadata": {},
   "outputs": [
    {
     "name": "stdout",
     "output_type": "stream",
     "text": [
      "73\n"
     ]
    }
   ],
   "source": [
    "#reduce function\n",
    "from functools import reduce \n",
    "\n",
    "a = [1,2,3,4,5,6,7,8,9,10]\n",
    "\n",
    "b = (reduce(lambda x,y:x+y+2,a))\n",
    "print(b)"
   ]
  },
  {
   "cell_type": "code",
   "execution_count": null,
   "id": "65bb7d56",
   "metadata": {},
   "outputs": [
    {
     "ename": "NameError",
     "evalue": "name 'add' is not defined",
     "output_type": "error",
     "traceback": [
      "\u001b[31m---------------------------------------------------------------------------\u001b[39m",
      "\u001b[31mNameError\u001b[39m                                 Traceback (most recent call last)",
      "\u001b[36mCell\u001b[39m\u001b[36m \u001b[39m\u001b[32mIn[3]\u001b[39m\u001b[32m, line 13\u001b[39m\n\u001b[32m     11\u001b[39m v1 = Vector(\u001b[32m10\u001b[39m,\u001b[32m20\u001b[39m)\n\u001b[32m     12\u001b[39m v2 = Vector(\u001b[32m20\u001b[39m,\u001b[32m30\u001b[39m)\n\u001b[32m---> \u001b[39m\u001b[32m13\u001b[39m newv = \u001b[43madd\u001b[49m(v1,v2)\n\u001b[32m     14\u001b[39m \u001b[38;5;28mrepr\u001b[39m(newv)\n",
      "\u001b[31mNameError\u001b[39m: name 'add' is not defined"
     ]
    }
   ],
   "source": [
    "#operator overloading\n",
    "class Vector:\n",
    "    def __init__(self,x,y):\n",
    "        self.x = x\n",
    "        self.y = y\n",
    "    def __add__(aa,bb):\n",
    "        return Vector(aa.x+bb.x,aa.y+bb.y)\n",
    "    def __repr__(self):\n",
    "        return (f\"X:{self.x}, Y: {self.y}\")\n",
    "    \n",
    "v1 = Vector(10,20)\n",
    "v2 = Vector(20,30)\n",
    "newv = (v1+v2)\n",
    "repr(newv)\n",
    "    "
   ]
  }
 ],
 "metadata": {
  "kernelspec": {
   "display_name": "Python 3",
   "language": "python",
   "name": "python3"
  },
  "language_info": {
   "codemirror_mode": {
    "name": "ipython",
    "version": 3
   },
   "file_extension": ".py",
   "mimetype": "text/x-python",
   "name": "python",
   "nbconvert_exporter": "python",
   "pygments_lexer": "ipython3",
   "version": "3.13.3"
  }
 },
 "nbformat": 4,
 "nbformat_minor": 5
}
